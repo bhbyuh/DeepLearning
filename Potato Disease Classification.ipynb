{
 "cells": [
  {
   "cell_type": "code",
   "execution_count": 1,
   "id": "ef6ec1e1",
   "metadata": {},
   "outputs": [
    {
     "name": "stdout",
     "output_type": "stream",
     "text": [
      "WARNING:tensorflow:From C:\\Users\\muaaz\\anaconda3\\Lib\\site-packages\\keras\\src\\losses.py:2976: The name tf.losses.sparse_softmax_cross_entropy is deprecated. Please use tf.compat.v1.losses.sparse_softmax_cross_entropy instead.\n",
      "\n"
     ]
    }
   ],
   "source": [
    "import tensorflow as tf\n",
    "from tensorflow.keras import models,layers \n",
    "import os\n",
    "from PIL import Image\n",
    "import numpy as np"
   ]
  },
  {
   "cell_type": "markdown",
   "id": "2c2614f1",
   "metadata": {},
   "source": [
    "# Load Data"
   ]
  },
  {
   "cell_type": "code",
   "execution_count": 2,
   "id": "0585afcb",
   "metadata": {},
   "outputs": [
    {
     "name": "stdout",
     "output_type": "stream",
     "text": [
      "2146\n",
      "2146\n",
      "<class 'PIL.JpegImagePlugin.JpegImageFile'>\n"
     ]
    }
   ],
   "source": [
    "i=0\n",
    "\n",
    "os.chdir('Potato_data\\Potato___Early_blight')\n",
    "X_train=os.listdir()\n",
    "for image in X_train:\n",
    "    X_train[i]=Image.open(image)\n",
    "    i+=1\n",
    "Y_train=[0]*len(os.listdir())\n",
    "\n",
    "os.chdir('..')\n",
    "os.chdir('Potato___healthy')\n",
    "X_train+=os.listdir()\n",
    "while(i<len(X_train)):\n",
    "    X_train[i]=Image.open(X_train[i])\n",
    "    i+=1\n",
    "Y_train+=[1]*len(os.listdir())\n",
    "\n",
    "os.chdir('..')\n",
    "os.chdir('Potato___Late_blight')\n",
    "X_train+=os.listdir()\n",
    "while(i<len(X_train)):\n",
    "    X_train[i]=Image.open(X_train[i])\n",
    "    i+=1\n",
    "Y_train+=[2]*len(os.listdir())\n",
    "\n",
    "os.chdir('../..')\n",
    "\n",
    "temp_xtrain=X_train\n",
    "temp_ytrain=Y_train\n",
    "print(len(X_train))\n",
    "print(len(Y_train))\n",
    "\n",
    "print(type(X_train[0]))"
   ]
  },
  {
   "cell_type": "code",
   "execution_count": 3,
   "id": "52cfceaf",
   "metadata": {},
   "outputs": [
    {
     "name": "stdout",
     "output_type": "stream",
     "text": [
      "(256, 256, 3)\n",
      "[[[187 186 200]\n",
      "  [174 173 187]\n",
      "  [168 167 181]\n",
      "  ...\n",
      "  [136 134 147]\n",
      "  [127 125 138]\n",
      "  [149 147 160]]\n",
      "\n",
      " [[180 179 193]\n",
      "  [201 200 214]\n",
      "  [225 224 238]\n",
      "  ...\n",
      "  [146 144 157]\n",
      "  [135 133 146]\n",
      "  [135 133 146]]\n",
      "\n",
      " [[198 197 211]\n",
      "  [172 171 185]\n",
      "  [176 175 189]\n",
      "  ...\n",
      "  [147 145 158]\n",
      "  [147 145 158]\n",
      "  [134 132 145]]\n",
      "\n",
      " ...\n",
      "\n",
      " [[167 165 179]\n",
      "  [167 165 179]\n",
      "  [168 166 180]\n",
      "  ...\n",
      "  [151 148 159]\n",
      "  [143 140 151]\n",
      "  [149 146 157]]\n",
      "\n",
      " [[149 147 161]\n",
      "  [153 151 165]\n",
      "  [157 155 169]\n",
      "  ...\n",
      "  [125 122 133]\n",
      "  [117 114 125]\n",
      "  [130 127 138]]\n",
      "\n",
      " [[165 163 177]\n",
      "  [165 163 177]\n",
      "  [164 162 176]\n",
      "  ...\n",
      "  [131 128 139]\n",
      "  [140 137 148]\n",
      "  [119 116 127]]]\n"
     ]
    }
   ],
   "source": [
    "print((np.array(X_train[0])).shape)\n",
    "print(np.array(X_train[0]))"
   ]
  },
  {
   "cell_type": "code",
   "execution_count": 4,
   "id": "c843414d",
   "metadata": {},
   "outputs": [
    {
     "data": {
      "text/plain": [
       "array([187, 186, 200], dtype=uint8)"
      ]
     },
     "execution_count": 4,
     "metadata": {},
     "output_type": "execute_result"
    }
   ],
   "source": [
    "(np.array(X_train[0]))[0][0] #this show first pixel of image and we know pixel contan RGB values (0-255) which shows here "
   ]
  },
  {
   "cell_type": "code",
   "execution_count": 5,
   "id": "46b2f534",
   "metadata": {},
   "outputs": [
    {
     "name": "stdout",
     "output_type": "stream",
     "text": [
      "(256, 256, 3)\n"
     ]
    }
   ],
   "source": [
    "print((np.array(X_train[0])).shape)\n",
    "for i in range(len(X_train)):\n",
    "     X_train[i]=np.array(X_train[i])\n",
    "\n",
    "X_train=np.array(X_train)\n",
    "Y_train=np.array(Y_train)"
   ]
  },
  {
   "cell_type": "markdown",
   "id": "1b9b9fa5",
   "metadata": {},
   "source": [
    "# Splitting Data"
   ]
  },
  {
   "cell_type": "code",
   "execution_count": 6,
   "id": "22f81b8c",
   "metadata": {},
   "outputs": [],
   "source": [
    "# If your labels are integers (e.g., 0, 1, 2)\n",
    "Y_train = tf.keras.utils.to_categorical(Y_train, num_classes=3)"
   ]
  },
  {
   "cell_type": "code",
   "execution_count": 7,
   "id": "b59a93a1",
   "metadata": {},
   "outputs": [],
   "source": [
    "from sklearn.model_selection import train_test_split\n",
    "\n",
    "x_train,x_test,y_train,y_test=train_test_split(X_train,Y_train,test_size=0.3,shuffle=True)"
   ]
  },
  {
   "cell_type": "code",
   "execution_count": 8,
   "id": "af6e786f",
   "metadata": {},
   "outputs": [
    {
     "name": "stdout",
     "output_type": "stream",
     "text": [
      "WARNING:tensorflow:From C:\\Users\\muaaz\\anaconda3\\Lib\\site-packages\\keras\\src\\backend.py:873: The name tf.get_default_graph is deprecated. Please use tf.compat.v1.get_default_graph instead.\n",
      "\n",
      "WARNING:tensorflow:From C:\\Users\\muaaz\\anaconda3\\Lib\\site-packages\\keras\\src\\layers\\pooling\\max_pooling2d.py:161: The name tf.nn.max_pool is deprecated. Please use tf.nn.max_pool2d instead.\n",
      "\n",
      "WARNING:tensorflow:From C:\\Users\\muaaz\\anaconda3\\Lib\\site-packages\\keras\\src\\optimizers\\__init__.py:309: The name tf.train.Optimizer is deprecated. Please use tf.compat.v1.train.Optimizer instead.\n",
      "\n"
     ]
    }
   ],
   "source": [
    "model=models.Sequential([\n",
    "    layers.Conv2D(64,kernel_size=(3,3),padding='same',activation='relu',input_shape=((256, 256, 3,))),\n",
    "    layers.MaxPooling2D((2,2)),\n",
    "    layers.Conv2D(96,kernel_size=(3,3),padding='same',activation='relu'),\n",
    "    layers.MaxPooling2D((2,2)),\n",
    "    layers.Conv2D(128,kernel_size=(3,3),padding='same',activation='relu'),\n",
    "    layers.MaxPooling2D((2,2)),\n",
    "    layers.Conv2D(164,kernel_size=(3,3),padding='same',activation='relu'),\n",
    "    layers.MaxPooling2D((2,2)),\n",
    "\n",
    "    layers.Flatten(),\n",
    "    \n",
    "    layers.Dense(64,activation='relu'),\n",
    "    layers.Dense(28,activation='relu'),\n",
    "    layers.Dense(3,activation='softmax')\n",
    "])\n",
    "model.compile(loss='CategoricalCrossentropy',optimizer='adam',metrics=['accuracy'])"
   ]
  },
  {
   "cell_type": "code",
   "execution_count": 9,
   "id": "4debf099",
   "metadata": {},
   "outputs": [
    {
     "name": "stdout",
     "output_type": "stream",
     "text": [
      "Epoch 1/15\n",
      "WARNING:tensorflow:From C:\\Users\\muaaz\\anaconda3\\Lib\\site-packages\\keras\\src\\utils\\tf_utils.py:492: The name tf.ragged.RaggedTensorValue is deprecated. Please use tf.compat.v1.ragged.RaggedTensorValue instead.\n",
      "\n",
      "WARNING:tensorflow:From C:\\Users\\muaaz\\anaconda3\\Lib\\site-packages\\keras\\src\\engine\\base_layer_utils.py:384: The name tf.executing_eagerly_outside_functions is deprecated. Please use tf.compat.v1.executing_eagerly_outside_functions instead.\n",
      "\n",
      "47/47 [==============================] - 209s 4s/step - loss: 4.6978 - accuracy: 0.5679\n",
      "Epoch 2/15\n",
      "47/47 [==============================] - 196s 4s/step - loss: 0.4963 - accuracy: 0.8176\n",
      "Epoch 3/15\n",
      "47/47 [==============================] - 2778s 60s/step - loss: 0.3251 - accuracy: 0.8782\n",
      "Epoch 4/15\n",
      "47/47 [==============================] - 389s 8s/step - loss: 0.2733 - accuracy: 0.9035\n",
      "Epoch 5/15\n",
      "47/47 [==============================] - 240s 5s/step - loss: 0.1960 - accuracy: 0.9334\n",
      "Epoch 6/15\n",
      "47/47 [==============================] - 164s 3s/step - loss: 0.1303 - accuracy: 0.9494\n",
      "Epoch 7/15\n",
      "47/47 [==============================] - 166s 4s/step - loss: 0.2373 - accuracy: 0.9201\n",
      "Epoch 8/15\n",
      "47/47 [==============================] - 189s 4s/step - loss: 0.1639 - accuracy: 0.9461\n",
      "Epoch 9/15\n",
      "47/47 [==============================] - 194s 4s/step - loss: 0.1784 - accuracy: 0.9348\n",
      "Epoch 10/15\n",
      "47/47 [==============================] - 195s 4s/step - loss: 0.0870 - accuracy: 0.9687\n",
      "Epoch 11/15\n",
      "47/47 [==============================] - 213s 5s/step - loss: 0.0506 - accuracy: 0.9814\n",
      "Epoch 12/15\n",
      "47/47 [==============================] - 211s 4s/step - loss: 0.0356 - accuracy: 0.9893\n",
      "Epoch 13/15\n",
      "47/47 [==============================] - 219s 5s/step - loss: 0.0120 - accuracy: 0.9967\n",
      "Epoch 14/15\n",
      "47/47 [==============================] - 203s 4s/step - loss: 0.0161 - accuracy: 0.9947\n",
      "Epoch 15/15\n",
      "47/47 [==============================] - 176s 4s/step - loss: 0.0277 - accuracy: 0.9913\n"
     ]
    },
    {
     "data": {
      "text/plain": [
       "<keras.src.callbacks.History at 0x12efce32210>"
      ]
     },
     "execution_count": 9,
     "metadata": {},
     "output_type": "execute_result"
    }
   ],
   "source": [
    "model.fit(x_train,y_train,epochs=15)\n",
    "#History=model.fit(x_train,y_train,epochs=15) #after eecution of code istory object contain information about training process"
   ]
  },
  {
   "cell_type": "code",
   "execution_count": 10,
   "id": "5ac142a9",
   "metadata": {},
   "outputs": [
    {
     "name": "stdout",
     "output_type": "stream",
     "text": [
      "21/21 [==============================] - 15s 634ms/step\n"
     ]
    }
   ],
   "source": [
    "y_predicted=model.predict(x_test)"
   ]
  },
  {
   "cell_type": "code",
   "execution_count": 11,
   "id": "5acc63b9",
   "metadata": {},
   "outputs": [
    {
     "data": {
      "text/plain": [
       "array([[9.9999976e-01, 4.4186484e-19, 1.8471339e-07],\n",
       "       [4.7140857e-05, 6.9174927e-01, 3.0820361e-01],\n",
       "       [9.9999964e-01, 1.2720718e-21, 3.4000402e-07],\n",
       "       ...,\n",
       "       [1.9485024e-05, 8.7238425e-01, 1.2759623e-01],\n",
       "       [1.0000000e+00, 2.4558312e-13, 4.7559229e-08],\n",
       "       [3.5730515e-08, 7.0552324e-04, 9.9929440e-01]], dtype=float32)"
      ]
     },
     "execution_count": 11,
     "metadata": {},
     "output_type": "execute_result"
    }
   ],
   "source": [
    "y_predicted"
   ]
  },
  {
   "cell_type": "code",
   "execution_count": 12,
   "id": "a02cfbe9",
   "metadata": {},
   "outputs": [
    {
     "data": {
      "text/plain": [
       "array([[1., 0., 0.],\n",
       "       [0., 0., 1.],\n",
       "       [1., 0., 0.],\n",
       "       ...,\n",
       "       [0., 0., 1.],\n",
       "       [1., 0., 0.],\n",
       "       [0., 0., 1.]], dtype=float32)"
      ]
     },
     "execution_count": 12,
     "metadata": {},
     "output_type": "execute_result"
    }
   ],
   "source": [
    "y_test"
   ]
  },
  {
   "cell_type": "code",
   "execution_count": 13,
   "id": "a375e623",
   "metadata": {},
   "outputs": [
    {
     "name": "stdout",
     "output_type": "stream",
     "text": [
      "21/21 [==============================] - 14s 631ms/step - loss: 0.3434 - accuracy: 0.9053\n"
     ]
    }
   ],
   "source": [
    "loss,accuracy=model.evaluate(x_test,y_test)"
   ]
  },
  {
   "cell_type": "code",
   "execution_count": 14,
   "id": "c4df65e9",
   "metadata": {},
   "outputs": [
    {
     "name": "stdout",
     "output_type": "stream",
     "text": [
      "Loss: 34.340545535087585\n",
      "Accuracy: 90.52795171737671\n"
     ]
    }
   ],
   "source": [
    "print('Loss:',loss*100)\n",
    "print('Accuracy:',accuracy*100)"
   ]
  }
 ],
 "metadata": {
  "kernelspec": {
   "display_name": "Python 3 (ipykernel)",
   "language": "python",
   "name": "python3"
  },
  "language_info": {
   "codemirror_mode": {
    "name": "ipython",
    "version": 3
   },
   "file_extension": ".py",
   "mimetype": "text/x-python",
   "name": "python",
   "nbconvert_exporter": "python",
   "pygments_lexer": "ipython3",
   "version": "3.11.5"
  }
 },
 "nbformat": 4,
 "nbformat_minor": 5
}
