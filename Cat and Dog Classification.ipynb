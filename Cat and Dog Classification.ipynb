{
 "cells": [
  {
   "cell_type": "code",
   "execution_count": 1,
   "id": "1f4c1b47",
   "metadata": {},
   "outputs": [
    {
     "name": "stdout",
     "output_type": "stream",
     "text": [
      "WARNING:tensorflow:From C:\\Users\\muaaz\\anaconda3\\Lib\\site-packages\\keras\\src\\losses.py:2976: The name tf.losses.sparse_softmax_cross_entropy is deprecated. Please use tf.compat.v1.losses.sparse_softmax_cross_entropy instead.\n",
      "\n"
     ]
    }
   ],
   "source": [
    "from PIL import Image\n",
    "import numpy as np\n",
    "import tensorflow as tf\n",
    "from tensorflow import keras\n",
    "import matplotlib.pyplot as plt\n",
    "import os\n",
    "import cv2"
   ]
  },
  {
   "cell_type": "code",
   "execution_count": 2,
   "id": "4f4db3d5",
   "metadata": {},
   "outputs": [],
   "source": [
    "test_data = os.listdir(\"test_set/test_set\")\n",
    "\n",
    "train_data = os.listdir(\"training_set/training_set\")"
   ]
  },
  {
   "cell_type": "code",
   "execution_count": 3,
   "id": "64148db2",
   "metadata": {},
   "outputs": [],
   "source": [
    "os.chdir('test_set/test_set')\n",
    "for i in range(len(test_data)):\n",
    "    test_data[i]=Image.open(test_data[i])"
   ]
  },
  {
   "cell_type": "code",
   "execution_count": 4,
   "id": "8fc4d627",
   "metadata": {},
   "outputs": [],
   "source": [
    "os.chdir('../../')"
   ]
  },
  {
   "cell_type": "code",
   "execution_count": 5,
   "id": "f01db83c",
   "metadata": {},
   "outputs": [],
   "source": [
    "os.chdir('training_set/training_set')\n",
    "image_data=[]\n",
    "for i in range(6000):\n",
    "     image_data.append(Image.open(train_data[i]))"
   ]
  },
  {
   "cell_type": "markdown",
   "id": "c28ad969",
   "metadata": {},
   "source": [
    "# Resize train data images"
   ]
  },
  {
   "cell_type": "code",
   "execution_count": 6,
   "id": "dfd06266",
   "metadata": {},
   "outputs": [],
   "source": [
    "#Resize train data images \n",
    "train_data.clear()\n",
    "img=[]\n",
    "for i in range(3971):\n",
    "    img.append(image_data[i].resize((180,180)))\n",
    "\n",
    "i=3974\n",
    "while(i<len(image_data)):\n",
    "    img.append(image_data[i].resize((180,180)))\n",
    "    i+=1"
   ]
  },
  {
   "cell_type": "code",
   "execution_count": 7,
   "id": "97067e9f",
   "metadata": {},
   "outputs": [],
   "source": [
    "train_data=img.copy()"
   ]
  },
  {
   "cell_type": "code",
   "execution_count": 8,
   "id": "3cbc3b12",
   "metadata": {},
   "outputs": [],
   "source": [
    "#Resize test data images \n",
    "im=[]\n",
    "for i in range(1740):\n",
    "    im.append(test_data[i].resize((180,180)))\n",
    "test_data.clear()\n",
    "test_data=im.copy()"
   ]
  },
  {
   "cell_type": "markdown",
   "id": "36e75b87",
   "metadata": {},
   "source": [
    "# Convert Images into Numpy Array"
   ]
  },
  {
   "cell_type": "code",
   "execution_count": 9,
   "id": "4f3a0973",
   "metadata": {},
   "outputs": [],
   "source": [
    "for i in range(len(test_data)):\n",
    "    test_data[i]=np.array(test_data[i])"
   ]
  },
  {
   "cell_type": "code",
   "execution_count": 10,
   "id": "7cecdbb6",
   "metadata": {},
   "outputs": [],
   "source": [
    "for i in range(len(train_data)):\n",
    "    train_data[i]=np.array(train_data[i])"
   ]
  },
  {
   "cell_type": "code",
   "execution_count": 11,
   "id": "7f75de06",
   "metadata": {},
   "outputs": [],
   "source": [
    "Y_test=[]\n",
    "for i in range(1000):\n",
    "    Y_test.append(1) # 1 for cats\n",
    "i=1000\n",
    "while(i<len(test_data)):\n",
    "    Y_test.append(0) # 0 for dogs\n",
    "    i+=1"
   ]
  },
  {
   "cell_type": "code",
   "execution_count": 12,
   "id": "51dd7a88",
   "metadata": {},
   "outputs": [],
   "source": [
    "Y_train=[]\n",
    "for i in range(4000):\n",
    "    Y_train.append(1) # 1 for cats\n",
    "i=4000\n",
    "while(i<len(train_data)):\n",
    "    Y_train.append(0) # 0 for dogs\n",
    "    i+=1"
   ]
  },
  {
   "cell_type": "code",
   "execution_count": 13,
   "id": "52c58d64",
   "metadata": {},
   "outputs": [],
   "source": [
    "Y_test = np.array(Y_test)\n",
    "Y_train = np.array(Y_train)\n",
    "train_data=np.array(train_data)\n",
    "test_data=np.array(test_data)"
   ]
  },
  {
   "cell_type": "markdown",
   "id": "2e18b253",
   "metadata": {},
   "source": [
    "# ANN"
   ]
  },
  {
   "cell_type": "code",
   "execution_count": 14,
   "id": "e4ebe783",
   "metadata": {},
   "outputs": [
    {
     "name": "stdout",
     "output_type": "stream",
     "text": [
      "WARNING:tensorflow:From C:\\Users\\muaaz\\anaconda3\\Lib\\site-packages\\keras\\src\\backend.py:873: The name tf.get_default_graph is deprecated. Please use tf.compat.v1.get_default_graph instead.\n",
      "\n"
     ]
    }
   ],
   "source": [
    "model=keras.Sequential([\n",
    "keras.layers.Dense(300,input_shape=(32400,),activation='relu'),\n",
    "keras.layers.Dense(300,activation='relu'),\n",
    "keras.layers.Dense(150,activation='relu'),\n",
    "keras.layers.Dense(2,activation='sigmoid')\n",
    "])"
   ]
  },
  {
   "cell_type": "code",
   "execution_count": 18,
   "id": "7a6c638f",
   "metadata": {},
   "outputs": [],
   "source": [
    "model.compile(\n",
    "    optimizer=\"adam\",\n",
    "    loss=\"sparse_categorical_crossentropy\",\n",
    "    metrics=[\"accuracy\"])"
   ]
  },
  {
   "cell_type": "code",
   "execution_count": 20,
   "id": "92521844",
   "metadata": {},
   "outputs": [],
   "source": [
    "model.fit(train_data,Y_train,epochs=15)"
   ]
  },
  {
   "cell_type": "code",
   "execution_count": 22,
   "id": "1fa3f8a4",
   "metadata": {},
   "outputs": [],
   "source": [
    "ANN_results=model.evaluate(test_data,Y_test)"
   ]
  },
  {
   "cell_type": "markdown",
   "id": "2dd9b162",
   "metadata": {},
   "source": [
    "# CNN"
   ]
  },
  {
   "cell_type": "code",
   "execution_count": 23,
   "id": "8dfe311e",
   "metadata": {},
   "outputs": [
    {
     "name": "stdout",
     "output_type": "stream",
     "text": [
      "WARNING:tensorflow:From C:\\Users\\muaaz\\anaconda3\\Lib\\site-packages\\keras\\src\\layers\\pooling\\max_pooling2d.py:161: The name tf.nn.max_pool is deprecated. Please use tf.nn.max_pool2d instead.\n",
      "\n"
     ]
    }
   ],
   "source": [
    "from tensorflow.keras import datasets, layers, models\n",
    "cnn_model=models.Sequential([\n",
    "    layers.Conv2D(filters=32, kernel_size=(3, 3), activation='relu', input_shape=(180, 180, 3)),\n",
    "    layers.MaxPooling2D((2, 2)),\n",
    "    \n",
    "    layers.Conv2D(filters=64, kernel_size=(3, 3), activation='relu'),\n",
    "    layers.MaxPooling2D((2, 2)),\n",
    "    \n",
    "    layers.Flatten(),\n",
    "    layers.Dense(64, activation='relu'),\n",
    "    layers.Dense(32, activation='relu'),\n",
    "    layers.Dense(2, activation='sigmoid')\n",
    "])"
   ]
  },
  {
   "cell_type": "code",
   "execution_count": 24,
   "id": "5b755e3a",
   "metadata": {},
   "outputs": [],
   "source": [
    "cnn_model.compile(optimizer='adam',\n",
    "              loss='sparse_categorical_crossentropy',\n",
    "              metrics=['accuracy'])"
   ]
  },
  {
   "cell_type": "code",
   "execution_count": 25,
   "id": "5a575f5f",
   "metadata": {},
   "outputs": [
    {
     "name": "stdout",
     "output_type": "stream",
     "text": [
      "Epoch 1/5\n",
      "WARNING:tensorflow:From C:\\Users\\muaaz\\anaconda3\\Lib\\site-packages\\keras\\src\\utils\\tf_utils.py:492: The name tf.ragged.RaggedTensorValue is deprecated. Please use tf.compat.v1.ragged.RaggedTensorValue instead.\n",
      "\n",
      "WARNING:tensorflow:From C:\\Users\\muaaz\\anaconda3\\Lib\\site-packages\\keras\\src\\engine\\base_layer_utils.py:384: The name tf.executing_eagerly_outside_functions is deprecated. Please use tf.compat.v1.executing_eagerly_outside_functions instead.\n",
      "\n",
      "188/188 [==============================] - 172s 905ms/step - loss: 6.5600 - accuracy: 0.6440\n",
      "Epoch 2/5\n",
      "188/188 [==============================] - 151s 801ms/step - loss: 0.5838 - accuracy: 0.6925\n",
      "Epoch 3/5\n",
      "188/188 [==============================] - 157s 831ms/step - loss: 0.4324 - accuracy: 0.7934\n",
      "Epoch 4/5\n",
      "188/188 [==============================] - 177s 939ms/step - loss: 0.3028 - accuracy: 0.8666\n",
      "Epoch 5/5\n",
      "188/188 [==============================] - 103s 548ms/step - loss: 0.2032 - accuracy: 0.9193\n"
     ]
    },
    {
     "data": {
      "text/plain": [
       "<keras.src.callbacks.History at 0x27ef8453410>"
      ]
     },
     "execution_count": 25,
     "metadata": {},
     "output_type": "execute_result"
    }
   ],
   "source": [
    "cnn_model.fit(train_data,Y_train,epochs=5)"
   ]
  },
  {
   "cell_type": "code",
   "execution_count": 28,
   "id": "40198831",
   "metadata": {},
   "outputs": [],
   "source": [
    "CNN_results=cnn_model.evaluate(test_data,Y_test)"
   ]
  },
  {
   "cell_type": "code",
   "execution_count": null,
   "id": "e906b8dd",
   "metadata": {},
   "outputs": [],
   "source": []
  },
  {
   "cell_type": "code",
   "execution_count": null,
   "id": "9b634fdb",
   "metadata": {},
   "outputs": [],
   "source": []
  }
 ],
 "metadata": {
  "kernelspec": {
   "display_name": "Python 3 (ipykernel)",
   "language": "python",
   "name": "python3"
  },
  "language_info": {
   "codemirror_mode": {
    "name": "ipython",
    "version": 3
   },
   "file_extension": ".py",
   "mimetype": "text/x-python",
   "name": "python",
   "nbconvert_exporter": "python",
   "pygments_lexer": "ipython3",
   "version": "3.11.4"
  }
 },
 "nbformat": 4,
 "nbformat_minor": 5
}
